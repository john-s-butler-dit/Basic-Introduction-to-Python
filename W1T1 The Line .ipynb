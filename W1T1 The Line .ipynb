{
  "nbformat": 4,
  "nbformat_minor": 0,
  "metadata": {
    "kernelspec": {
      "display_name": "Python 3",
      "language": "python",
      "name": "python3"
    },
    "language_info": {
      "codemirror_mode": {
        "name": "ipython",
        "version": 3
      },
      "file_extension": ".py",
      "mimetype": "text/x-python",
      "name": "python",
      "nbconvert_exporter": "python",
      "pygments_lexer": "ipython3",
      "version": "3.7.9"
    },
    "colab": {
      "name": "W1T1 The Line .ipynb",
      "provenance": [],
      "toc_visible": true,
      "include_colab_link": true
    }
  },
  "cells": [
    {
      "cell_type": "markdown",
      "metadata": {
        "id": "view-in-github",
        "colab_type": "text"
      },
      "source": [
        "<a href=\"https://colab.research.google.com/github/john-s-butler-dit/Basic-Introduction-to-Python/blob/master/W1T1%20The%20Line%20.ipynb\" target=\"_parent\"><img src=\"https://colab.research.google.com/assets/colab-badge.svg\" alt=\"Open In Colab\"/></a>"
      ]
    },
    {
      "cell_type": "markdown",
      "metadata": {
        "id": "wjw5J2KF9Y_t"
      },
      "source": [
        "# The line Week 1, Tutorial 1"
      ]
    },
    {
      "cell_type": "markdown",
      "metadata": {
        "id": "Q2UwpnGU9Y_z"
      },
      "source": [
        "In this notebook we will show some of the basics of plotting and accessing elements of a vector (array) of numbers using the line."
      ]
    },
    {
      "cell_type": "markdown",
      "metadata": {
        "id": "HIw9sEB39Y_z"
      },
      "source": [
        "### Libraries"
      ]
    },
    {
      "cell_type": "code",
      "metadata": {
        "id": "Z-9U5qbQ9Y_z"
      },
      "source": [
        "# LIBRARY\n",
        "import numpy as np # vector manipulation\n",
        "\n",
        "# THIS IS FOR PLOTTING\n",
        "%matplotlib inline\n",
        "import matplotlib.pyplot as plt # side-stepping mpl backend\n",
        "import warnings\n",
        "warnings.filterwarnings(\"ignore\")"
      ],
      "execution_count": 1,
      "outputs": []
    },
    {
      "cell_type": "markdown",
      "metadata": {
        "id": "jngXI1dd9Y_0"
      },
      "source": [
        "## A Single Line Plot\n",
        "\n",
        "The code below will plot a line from 20 to 70 on the x axis with a slope of $m=0.3$ and an intercept of $c=10$.\n",
        "The formula for the line is\n",
        "$$ y=0.3x+10.$$\n",
        "We first assign the values:\n",
        "My name is "
      ]
    },
    {
      "cell_type": "code",
      "metadata": {
        "id": "tt9dMM529Y_0"
      },
      "source": [
        "m=0.3\n",
        "c=10"
      ],
      "execution_count": 2,
      "outputs": []
    },
    {
      "cell_type": "markdown",
      "metadata": {
        "id": "_bytS9jx9Y_0"
      },
      "source": [
        "Now we define a range of x values starting at 20 and ending at 69 in unit steps. To do this we use the __numpy__ library function __arange__."
      ]
    },
    {
      "cell_type": "code",
      "metadata": {
        "id": "SFQXATAv9Y_1",
        "outputId": "56e4adf9-a9bc-4441-8085-f95061fd986c",
        "colab": {
          "base_uri": "https://localhost:8080/"
        }
      },
      "source": [
        "x=np.arange(20,70,1)\n",
        "print(x)"
      ],
      "execution_count": 3,
      "outputs": [
        {
          "output_type": "stream",
          "name": "stdout",
          "text": [
            "[20 21 22 23 24 25 26 27 28 29 30 31 32 33 34 35 36 37 38 39 40 41 42 43\n",
            " 44 45 46 47 48 49 50 51 52 53 54 55 56 57 58 59 60 61 62 63 64 65 66 67\n",
            " 68 69]\n"
          ]
        }
      ]
    },
    {
      "cell_type": "markdown",
      "metadata": {
        "id": "u8i76VS_9Y_2"
      },
      "source": [
        "To print the first element of the x range use the comand print(x[0])"
      ]
    },
    {
      "cell_type": "code",
      "metadata": {
        "id": "eiM1EKZ49Y_2",
        "outputId": "daa2b44a-3a9f-493d-c11e-05e9bd5c891a",
        "colab": {
          "base_uri": "https://localhost:8080/"
        }
      },
      "source": [
        "print(x[0])"
      ],
      "execution_count": 4,
      "outputs": [
        {
          "output_type": "stream",
          "name": "stdout",
          "text": [
            "20\n"
          ]
        }
      ]
    },
    {
      "cell_type": "markdown",
      "metadata": {
        "id": "ZB7HOPUY9Y_3"
      },
      "source": [
        "We now write the formula for the line\n",
        "$$ y=mx+c.$$"
      ]
    },
    {
      "cell_type": "code",
      "metadata": {
        "id": "Y1hxdDQ39Y_3",
        "outputId": "e902a7a9-d4f0-484b-8587-360be1e655f3",
        "colab": {
          "base_uri": "https://localhost:8080/"
        }
      },
      "source": [
        "y= m*x+c\n",
        "print(y)"
      ],
      "execution_count": 5,
      "outputs": [
        {
          "output_type": "stream",
          "name": "stdout",
          "text": [
            "[16.  16.3 16.6 16.9 17.2 17.5 17.8 18.1 18.4 18.7 19.  19.3 19.6 19.9\n",
            " 20.2 20.5 20.8 21.1 21.4 21.7 22.  22.3 22.6 22.9 23.2 23.5 23.8 24.1\n",
            " 24.4 24.7 25.  25.3 25.6 25.9 26.2 26.5 26.8 27.1 27.4 27.7 28.  28.3\n",
            " 28.6 28.9 29.2 29.5 29.8 30.1 30.4 30.7]\n"
          ]
        }
      ]
    },
    {
      "cell_type": "markdown",
      "metadata": {
        "id": "FgIwc08F9Y_3"
      },
      "source": [
        "To plot the result we use the __matplotlib__ library function __plt__."
      ]
    },
    {
      "cell_type": "code",
      "metadata": {
        "id": "qE8a3N6e9Y_3",
        "outputId": "dd6e5726-029d-4c7d-f4e5-898c11a6f0d9",
        "colab": {
          "base_uri": "https://localhost:8080/",
          "height": 388
        }
      },
      "source": [
        "fig = plt.figure(figsize=(6,6)) # This setups the size of the figure\n",
        "plt.plot(x,y,'-',color='b')\n",
        "plt.xlabel('Age')\n",
        "plt.ylabel('Temporal Discrimination (ms)')\n",
        "plt.show() # This plots the figure"
      ],
      "execution_count": 8,
      "outputs": [
        {
          "output_type": "display_data",
          "data": {
            "text/plain": [
              "<Figure size 432x432 with 1 Axes>"
            ],
            "image/png": "[encoded data removed]"
          },
          "metadata": {
            "needs_background": "light"
          }
        }
      ]
    },
    {
      "cell_type": "markdown",
      "metadata": {
        "id": "OYy_EVh09Y_4"
      },
      "source": [
        "# Problems \n",
        "There are three simple problem questions to show how to plot a line in python.\n",
        "\n"
      ]
    },
    {
      "cell_type": "markdown",
      "source": [
        "## Problem 1\n",
        "Re-do the plot with a slope of 1 and an intercept of -5.\n"
      ],
      "metadata": {
        "id": "rPZJos9eCRNj"
      }
    },
    {
      "cell_type": "code",
      "metadata": {
        "id": "ydBiZ2Ar9Y_4",
        "outputId": "0a978e46-2c20-44f6-b80c-b5af569bc35b",
        "colab": {
          "base_uri": "https://localhost:8080/",
          "height": 374
        }
      },
      "source": [
        "##############################################################################\n",
        "## INSERT: Update the slope to 1 and intercept to -5\n",
        "##############################################################################\n",
        "\n",
        "#######################ANSWER###############################\n",
        "\n",
        "#######################################################################\n",
        "\n",
        "x=np.arange(20,70,1)\n",
        "y= m*x+c\n",
        "\n",
        "fig = plt.figure(figsize=(6,6))\n",
        "plt.plot(x,y,'-',color='red')\n",
        "plt.show()"
      ],
      "execution_count": null,
      "outputs": [
        {
          "output_type": "display_data",
          "data": {
            "image/png": "[encoded data removed]",
            "text/plain": [
              "<Figure size 432x432 with 1 Axes>"
            ]
          },
          "metadata": {
            "tags": [],
            "needs_background": "light"
          }
        }
      ]
    },
    {
      "cell_type": "markdown",
      "metadata": {
        "id": "tkN77Rnu9Y_5"
      },
      "source": [
        "## Problem 2\n",
        "Re-do the plot but with a different coloured line."
      ]
    },
    {
      "cell_type": "code",
      "metadata": {
        "id": "uDqN0g7P9Y_5",
        "outputId": "f6a24d18-ed94-4833-9e59-81ee65ec8130",
        "colab": {
          "base_uri": "https://localhost:8080/",
          "height": 391
        }
      },
      "source": [
        "\n",
        "fig = plt.figure(figsize=(6,6))\n",
        "##############################################################################\n",
        "## INSERT: change the plot function to plot a different coloured line.\n",
        "##############################################################################\n",
        "\n",
        "#######################ANSWER###############################\n",
        "m=1\n",
        "c=-5\n",
        "\n",
        "x=np.arange(20,70,1)\n",
        "y= m*x+c\n",
        "\n",
        "fig = plt.figure(figsize=(6,6))\n",
        "plt.plot(x,y,'--')\n",
        "#######################################################################\n",
        "\n",
        "plt.show()"
      ],
      "execution_count": null,
      "outputs": [
        {
          "output_type": "display_data",
          "data": {
            "text/plain": [
              "<Figure size 432x432 with 0 Axes>"
            ]
          },
          "metadata": {
            "tags": []
          }
        },
        {
          "output_type": "display_data",
          "data": {
            "image/png": "[encoded data removed]",
            "text/plain": [
              "<Figure size 432x432 with 1 Axes>"
            ]
          },
          "metadata": {
            "tags": [],
            "needs_background": "light"
          }
        }
      ]
    },
    {
      "cell_type": "markdown",
      "metadata": {
        "id": "AQzcrptU9Y_6"
      },
      "source": [
        "## Problem 3\n",
        "What is the value of the 5th element of the y vector."
      ]
    },
    {
      "cell_type": "code",
      "metadata": {
        "id": "87iT4icO9Y_6",
        "outputId": "b8de6b3c-bd36-4123-a164-3e5a128b5942",
        "colab": {
          "base_uri": "https://localhost:8080/"
        }
      },
      "source": [
        "########## ANSWER ###################\n"
      ],
      "execution_count": null,
      "outputs": [
        {
          "output_type": "stream",
          "text": [
            "19\n"
          ],
          "name": "stdout"
        }
      ]
    },
    {
      "cell_type": "markdown",
      "metadata": {
        "id": "WzpgliAh9Y_7"
      },
      "source": [
        "---\n",
        "# Summary\n",
        "\n",
        "In this tutorial, we learned:\n",
        "\n",
        "* To plot a line.\n",
        "* To access elements of an array."
      ]
    }
  ]
}